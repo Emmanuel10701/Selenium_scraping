{
  "nbformat": 4,
  "nbformat_minor": 0,
  "metadata": {
    "colab": {
      "provenance": [],
      "authorship_tag": "ABX9TyPM9TZIc8+It7gYXeUxR0f9",
      "include_colab_link": true
    },
    "kernelspec": {
      "name": "python3",
      "display_name": "Python 3"
    },
    "language_info": {
      "name": "python"
    }
  },
  "cells": [
    {
      "cell_type": "markdown",
      "metadata": {
        "id": "view-in-github",
        "colab_type": "text"
      },
      "source": [
        "<a href=\"https://colab.research.google.com/github/Emmanuel10701/Selenium_scraping/blob/main/Grading_system_CAT_2_.ipynb\" target=\"_parent\"><img src=\"https://colab.research.google.com/assets/colab-badge.svg\" alt=\"Open In Colab\"/></a>"
      ]
    },
    {
      "cell_type": "markdown",
      "source": [
        "# Emmanuel Makau\n",
        "**Registration Number:** S084-01-2319/2021\n",
        "\n",
        "**Course:**  Computational Mathematics 2\n",
        "Cat 2"
      ],
      "metadata": {
        "id": "hECfmlM2m-um"
      }
    },
    {
      "cell_type": "markdown",
      "source": [
        "## 📘 Student Grade Calculator\n",
        "\n",
        "This program takes marks for five subjects as input from the user, calculates the average (mean), and assigns a grade based on the following criteria:\n",
        "\n",
        "- **A**: Mean between 70 and 100  \n",
        "- **B**: Mean between 60 and 69  \n",
        "- **C**: Mean between 50 and 59  \n",
        "- **D**: Mean between 40 and 49  \n",
        "- **E**: Mean between 0 and 39  \n",
        "- Any mark below 0 or above 100 is considered **invalid input**.\n",
        "\n",
        " This tool ensures each subject's input is validated and the grading system is strictly followed.\n"
      ],
      "metadata": {
        "id": "bl_pYxQWodls"
      }
    },
    {
      "cell_type": "code",
      "execution_count": 3,
      "metadata": {
        "colab": {
          "base_uri": "https://localhost:8080/"
        },
        "id": "OuWgo8cFlNFo",
        "outputId": "bdad5376-fc71-45f4-d547-117acca3c86a"
      },
      "outputs": [
        {
          "output_type": "stream",
          "name": "stdout",
          "text": [
            "Enter marks for subject 1: 60\n",
            "Enter marks for subject 2: 89\n",
            "Enter marks for subject 3: 93\n",
            "Enter marks for subject 4: 55\n",
            "Enter marks for subject 5: 15\n",
            "The average mark is: 62.40\n",
            "The grade is: B\n"
          ]
        }
      ],
      "source": [
        "# Initialize an empty list to store the marks\n",
        "marks = []\n",
        "\n",
        "# Loop to get marks for 5 subjects\n",
        "for i in range(5):\n",
        "  while True:\n",
        "    try:\n",
        "      # Get input from the user for each subject's mark\n",
        "      mark = float(input(f\"Enter marks for subject {i+1}: \"))\n",
        "      # Validate if the mark is within the valid range (0-100)\n",
        "      if 0 <= mark <= 100:\n",
        "        # Append the valid mark to the list and break the inner loop\n",
        "        marks.append(mark)\n",
        "        break\n",
        "      else:\n",
        "        # Print an error message for invalid mark range\n",
        "        print(\"Invalid input. Marks must be between 0 and 100.\")\n",
        "    except ValueError:\n",
        "      # Print an error message for non-numeric input\n",
        "      print(\"Invalid input. Please enter a number.\")\n",
        "\n",
        "# Calculate the mean of the marks\n",
        "mean = sum(marks) / len(marks)\n",
        "\n",
        "# Print the calculated average mark\n",
        "print(f\"The average mark is: {mean:.2f}\")\n",
        "\n",
        "# Determine the grade based on the average mark\n",
        "if 70 <= mean <= 100:\n",
        "  grade = 'A'\n",
        "elif 60 <= mean <= 69:\n",
        "  grade = 'B'\n",
        "elif 50 <= mean <= 59:\n",
        "  grade = 'C'\n",
        "elif 40 <= mean <= 49:\n",
        "  grade = 'D'\n",
        "else:\n",
        "  grade = 'E'\n",
        "\n",
        "# Print the assigned grade\n",
        "print(f\"The grade is: {grade}\")"
      ]
    }
  ]
}